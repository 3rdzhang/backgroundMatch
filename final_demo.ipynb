{
 "cells": [
  {
   "cell_type": "code",
   "execution_count": 1,
   "id": "725d1e31",
   "metadata": {},
   "outputs": [],
   "source": [
    "import feats_extract\n"
   ]
  },
  {
   "cell_type": "code",
   "execution_count": 2,
   "id": "1fc631c5",
   "metadata": {},
   "outputs": [],
   "source": [
    "fe = feats_extract.FeatsExtracter()"
   ]
  },
  {
   "cell_type": "code",
   "execution_count": null,
   "id": "51b11a3f",
   "metadata": {},
   "outputs": [],
   "source": []
  },
  {
   "cell_type": "code",
   "execution_count": 8,
   "id": "94045c64",
   "metadata": {},
   "outputs": [
    {
     "name": "stdout",
     "output_type": "stream",
     "text": [
      "extracting feats of ./测试2/原图_small\\1.png\n"
     ]
    }
   ],
   "source": [
    "ori_path = \"./测试2/原图_small\"\n",
    "back_path=\"./测试2/场景图/正面\"\n",
    "profile_path=\"./测试2/场景图/侧面\"\n",
    "\n",
    "ori_feats = fe.extract_feature(img_dir = ori_path, max_len = 1)\n",
    "# with open(\"./ori_feats\", 'wb') as f:\n",
    "#     pickle.dump(ori_feats, f)\n",
    "    \n",
    "# back_feats = extract_feature(back_path, image_processor, model, max_len = 1)\n",
    "# with open(\"./back_feats\", 'wb') as f:\n",
    "#     pickle.dump(back_feats, f)\n",
    "    \n",
    "# profile_feats = extract_feature(profile_path, image_processor, model, max_len = 100)\n",
    "# import pickle\n",
    "# with open(\"./profile_feats\", 'wb') as f:\n",
    "#     pickle.dump(profile_feats, f)"
   ]
  },
  {
   "cell_type": "code",
   "execution_count": 3,
   "id": "0a396fa2",
   "metadata": {},
   "outputs": [],
   "source": [
    "ori_feats = fe.load_feats(\"./ori_feats\")\n",
    "back_feats = fe.load_feats(\"./back_feats\")\n",
    "profile_feats = fe.load_feats(\"./profile_feats\")"
   ]
  },
  {
   "cell_type": "code",
   "execution_count": 4,
   "id": "9c13cc43",
   "metadata": {},
   "outputs": [],
   "source": [
    "train_data_path =  \"./embd_data.csv\"\n",
    "# train_data = gen_data(ori_feats, back_feats, data_path = train_data_path)"
   ]
  },
  {
   "cell_type": "code",
   "execution_count": 5,
   "id": "ffa1a4a2",
   "metadata": {},
   "outputs": [],
   "source": [
    "# prepare the data\n",
    "from base_model import MLP\n",
    "from base_model import train_model, predict, cal_score, prepare_data, cal_score\n",
    "train_dl, test_dl = prepare_data(train_data_path)\n",
    "n_inputs = 1536\n",
    "model = MLP(n_inputs)\n",
    "# train the model\n",
    "train_model(train_dl, model)"
   ]
  },
  {
   "cell_type": "code",
   "execution_count": 10,
   "id": "cd2b3b85",
   "metadata": {},
   "outputs": [
    {
     "data": {
      "text/plain": [
       "MLP(\n",
       "  (hidden1): Linear(in_features=1536, out_features=128, bias=True)\n",
       "  (act1): ReLU()\n",
       "  (hidden2): Linear(in_features=128, out_features=16, bias=True)\n",
       "  (act2): ReLU()\n",
       "  (hidden3): Linear(in_features=16, out_features=1, bias=True)\n",
       "  (hidden4): Linear(in_features=2, out_features=1, bias=True)\n",
       "  (act3): Sigmoid()\n",
       ")"
      ]
     },
     "execution_count": 10,
     "metadata": {},
     "output_type": "execute_result"
    }
   ],
   "source": [
    "model"
   ]
  },
  {
   "cell_type": "code",
   "execution_count": null,
   "id": "23095a20",
   "metadata": {},
   "outputs": [],
   "source": [
    "MODEL_PATH = \"./model.pt\" \n",
    "torch.save(model, MODEL_PATH)"
   ]
  },
  {
   "cell_type": "code",
   "execution_count": null,
   "id": "d84ce797",
   "metadata": {},
   "outputs": [],
   "source": [
    "r_model = torch.load(MODEL_PATH)\n",
    "r_model.eval()"
   ]
  },
  {
   "cell_type": "code",
   "execution_count": 6,
   "id": "b3cf5e3e",
   "metadata": {},
   "outputs": [],
   "source": [
    "from feats_extract import get_one_feats, get_group_feats, show_result\n",
    "f_ori = get_one_feats(\"1.png\", ori_feats)\n",
    "f_back = get_group_feats(\"./测试2/场景图/正面\", back_feats)"
   ]
  },
  {
   "cell_type": "code",
   "execution_count": 10,
   "id": "1f9a4b67",
   "metadata": {},
   "outputs": [
    {
     "name": "stdout",
     "output_type": "stream",
     "text": [
      "torch.Size([15, 1536])\n"
     ]
    }
   ],
   "source": [
    "from base_model import cal_score\n",
    "\n",
    "result = cal_score(model, f_ori, f_back)"
   ]
  },
  {
   "cell_type": "code",
   "execution_count": 11,
   "id": "a07cafaf",
   "metadata": {},
   "outputs": [
    {
     "data": {
      "text/plain": [
       "{'1.png': [('客厅装饰画空白样机 (26).jpg', 0.99906164),\n",
       "  ('客厅装饰画空白样机 (29).jpg', 0.99825746),\n",
       "  ('客厅装饰画空白样机 (9).jpg', 0.99153566)]}"
      ]
     },
     "execution_count": 11,
     "metadata": {},
     "output_type": "execute_result"
    }
   ],
   "source": [
    "result"
   ]
  },
  {
   "cell_type": "code",
   "execution_count": 40,
   "id": "15121311",
   "metadata": {},
   "outputs": [],
   "source": [
    "from PIL import Image\n",
    "\n",
    "def show_result(ori_result, back_result,ori_path, back_path,):\n",
    "    plt.figure()\n",
    "    row_num = len(back_result)\n",
    "    fig, axs = plt.subplots(row_num, 5, figsize=(25, 15))\n",
    "    i = 1\n",
    "    image = Image.open(os.path.join(ori_path, ori_result))\n",
    "    plt.subplot(row_num, 5, i)\n",
    "    i = i + 1\n",
    "    \n",
    "    for r in back_result:\n",
    "        image = Image.open(os.path.join(back_path, r[0]))\n",
    "        plt.subplot(row_num, 5, i)\n",
    "        i = i + 1\n",
    "        plt.imshow(image)\n",
    "        \n",
    "#     image = Image.open(os.path.join(profile_path, profile_result[r][0][0]))\n",
    "#     plt.subplot(row_num, 5, i)\n",
    "#     i = i + 1\n",
    "#     plt.imshow(image)"
   ]
  },
  {
   "cell_type": "code",
   "execution_count": null,
   "id": "075cc71c",
   "metadata": {},
   "outputs": [],
   "source": [
    "ori_result = result.keys()[0]\n",
    "back_result =  result.value()[0]"
   ]
  },
  {
   "cell_type": "code",
   "execution_count": 34,
   "id": "d04ddb5f",
   "metadata": {},
   "outputs": [],
   "source": [
    "ori_n = \"\"\n",
    "back_n = []\n",
    "for i in result:\n",
    "    ori_n = i\n",
    "    for j in result[i]:\n",
    "        back_n.append(j[0])"
   ]
  },
  {
   "cell_type": "code",
   "execution_count": 30,
   "id": "d27e91a9",
   "metadata": {},
   "outputs": [
    {
     "data": {
      "text/plain": [
       "1"
      ]
     },
     "execution_count": 30,
     "metadata": {},
     "output_type": "execute_result"
    }
   ],
   "source": [
    "len(result.items())"
   ]
  },
  {
   "cell_type": "code",
   "execution_count": 36,
   "id": "b2b2cfb9",
   "metadata": {},
   "outputs": [],
   "source": [
    "ori_path = \"./测试2/原图_small\"\n",
    "back_path=\"./测试2/场景图/正面\"\n",
    "profile_path=\"./测试2/场景图/侧面\""
   ]
  },
  {
   "cell_type": "code",
   "execution_count": 41,
   "id": "26b46ba0",
   "metadata": {},
   "outputs": [
    {
     "ename": "NameError",
     "evalue": "name 'plt' is not defined",
     "output_type": "error",
     "traceback": [
      "\u001b[1;31m---------------------------------------------------------------------------\u001b[0m",
      "\u001b[1;31mNameError\u001b[0m                                 Traceback (most recent call last)",
      "Cell \u001b[1;32mIn[41], line 1\u001b[0m\n\u001b[1;32m----> 1\u001b[0m \u001b[43mshow_result\u001b[49m\u001b[43m(\u001b[49m\u001b[43mori_n\u001b[49m\u001b[43m,\u001b[49m\u001b[43m \u001b[49m\u001b[43mback_n\u001b[49m\u001b[43m,\u001b[49m\u001b[43m \u001b[49m\u001b[43mori_path\u001b[49m\u001b[43m,\u001b[49m\u001b[43m \u001b[49m\u001b[43mback_path\u001b[49m\u001b[43m)\u001b[49m\n",
      "Cell \u001b[1;32mIn[40], line 4\u001b[0m, in \u001b[0;36mshow_result\u001b[1;34m(ori_result, back_result, ori_path, back_path)\u001b[0m\n\u001b[0;32m      3\u001b[0m \u001b[38;5;28;01mdef\u001b[39;00m \u001b[38;5;21mshow_result\u001b[39m(ori_result, back_result,ori_path, back_path,):\n\u001b[1;32m----> 4\u001b[0m     \u001b[43mplt\u001b[49m\u001b[38;5;241m.\u001b[39mfigure()\n\u001b[0;32m      5\u001b[0m     row_num \u001b[38;5;241m=\u001b[39m \u001b[38;5;28mlen\u001b[39m(back_result)\n\u001b[0;32m      6\u001b[0m     fig, axs \u001b[38;5;241m=\u001b[39m plt\u001b[38;5;241m.\u001b[39msubplots(row_num, \u001b[38;5;241m5\u001b[39m, figsize\u001b[38;5;241m=\u001b[39m(\u001b[38;5;241m25\u001b[39m, \u001b[38;5;241m15\u001b[39m))\n",
      "\u001b[1;31mNameError\u001b[0m: name 'plt' is not defined"
     ]
    }
   ],
   "source": [
    "show_result(ori_n, back_n, ori_path, back_path)"
   ]
  },
  {
   "cell_type": "code",
   "execution_count": null,
   "id": "1c1d668b",
   "metadata": {},
   "outputs": [],
   "source": []
  }
 ],
 "metadata": {
  "kernelspec": {
   "display_name": "Python 3 (ipykernel)",
   "language": "python",
   "name": "python3"
  },
  "language_info": {
   "codemirror_mode": {
    "name": "ipython",
    "version": 3
   },
   "file_extension": ".py",
   "mimetype": "text/x-python",
   "name": "python",
   "nbconvert_exporter": "python",
   "pygments_lexer": "ipython3",
   "version": "3.10.9"
  }
 },
 "nbformat": 4,
 "nbformat_minor": 5
}
